{
 "cells": [
  {
   "cell_type": "code",
   "execution_count": 1,
   "metadata": {},
   "outputs": [],
   "source": [
    "import pandas as pd\n",
    "import os\n",
    "import joblib"
   ]
  },
  {
   "cell_type": "code",
   "execution_count": 2,
   "metadata": {},
   "outputs": [],
   "source": [
    "PATH_TRAIN = os.path.join(\"dataset\", \"train.csv\")\n",
    "PATH_TEST = os.path.join(\"dataset\", \"test.csv\")"
   ]
  },
  {
   "cell_type": "code",
   "execution_count": 3,
   "metadata": {},
   "outputs": [],
   "source": [
    "df = pd.read_csv(PATH_TRAIN, index_col='id')\n"
   ]
  },
  {
   "cell_type": "code",
   "execution_count": 4,
   "metadata": {},
   "outputs": [
    {
     "name": "stdout",
     "output_type": "stream",
     "text": [
      "<class 'pandas.core.frame.DataFrame'>\n",
      "Int64Index: 26570 entries, 0 to 26569\n",
      "Data columns (total 25 columns):\n",
      " #   Column          Non-Null Count  Dtype  \n",
      "---  ------          --------------  -----  \n",
      " 0   product_code    26570 non-null  object \n",
      " 1   loading         26320 non-null  float64\n",
      " 2   attribute_0     26570 non-null  object \n",
      " 3   attribute_1     26570 non-null  object \n",
      " 4   attribute_2     26570 non-null  int64  \n",
      " 5   attribute_3     26570 non-null  int64  \n",
      " 6   measurement_0   26570 non-null  int64  \n",
      " 7   measurement_1   26570 non-null  int64  \n",
      " 8   measurement_2   26570 non-null  int64  \n",
      " 9   measurement_3   26189 non-null  float64\n",
      " 10  measurement_4   26032 non-null  float64\n",
      " 11  measurement_5   25894 non-null  float64\n",
      " 12  measurement_6   25774 non-null  float64\n",
      " 13  measurement_7   25633 non-null  float64\n",
      " 14  measurement_8   25522 non-null  float64\n",
      " 15  measurement_9   25343 non-null  float64\n",
      " 16  measurement_10  25270 non-null  float64\n",
      " 17  measurement_11  25102 non-null  float64\n",
      " 18  measurement_12  24969 non-null  float64\n",
      " 19  measurement_13  24796 non-null  float64\n",
      " 20  measurement_14  24696 non-null  float64\n",
      " 21  measurement_15  24561 non-null  float64\n",
      " 22  measurement_16  24460 non-null  float64\n",
      " 23  measurement_17  24286 non-null  float64\n",
      " 24  failure         26570 non-null  int64  \n",
      "dtypes: float64(16), int64(6), object(3)\n",
      "memory usage: 5.3+ MB\n"
     ]
    }
   ],
   "source": [
    "df\n",
    "df.info()"
   ]
  },
  {
   "cell_type": "code",
   "execution_count": 5,
   "metadata": {},
   "outputs": [],
   "source": [
    "df_y = df[\"failure\"]  # save target\n",
    "df_X = df.drop(['failure'], axis=1)"
   ]
  },
  {
   "cell_type": "code",
   "execution_count": 6,
   "metadata": {},
   "outputs": [],
   "source": [
    "from sklearn.model_selection import train_test_split"
   ]
  },
  {
   "cell_type": "code",
   "execution_count": 7,
   "metadata": {},
   "outputs": [],
   "source": [
    "random_state = 42\n",
    "test_size = 0.2\n",
    "\n",
    "x_train, x_val, y_train, y_val = train_test_split(df_X, df_y , test_size = \n",
    "test_size, random_state=random_state)"
   ]
  },
  {
   "cell_type": "code",
   "execution_count": 8,
   "metadata": {},
   "outputs": [
    {
     "name": "stdout",
     "output_type": "stream",
     "text": [
      "(21256, 24)\n",
      "(21256,)\n",
      "(5314, 24)\n",
      "(5314,)\n"
     ]
    }
   ],
   "source": [
    "print(x_train.shape)\n",
    "print(y_train.shape)\n",
    "print(x_val.shape)\n",
    "print(y_val.shape)"
   ]
  },
  {
   "cell_type": "markdown",
   "metadata": {},
   "source": [
    "# Data Preprocessing"
   ]
  },
  {
   "cell_type": "code",
   "execution_count": 9,
   "metadata": {},
   "outputs": [],
   "source": [
    "from sklearn.compose import ColumnTransformer\n",
    "from sklearn.pipeline import Pipeline\n",
    "from sklearn.impute import SimpleImputer\n",
    "from sklearn.preprocessing import OneHotEncoder, StandardScaler\n"
   ]
  },
  {
   "cell_type": "code",
   "execution_count": 10,
   "metadata": {},
   "outputs": [
    {
     "data": {
      "text/plain": [
       "product_code         0\n",
       "loading            207\n",
       "attribute_0          0\n",
       "attribute_1          0\n",
       "attribute_2          0\n",
       "attribute_3          0\n",
       "measurement_0        0\n",
       "measurement_1        0\n",
       "measurement_2        0\n",
       "measurement_3      293\n",
       "measurement_4      439\n",
       "measurement_5      539\n",
       "measurement_6      627\n",
       "measurement_7      738\n",
       "measurement_8      852\n",
       "measurement_9      972\n",
       "measurement_10    1042\n",
       "measurement_11    1153\n",
       "measurement_12    1315\n",
       "measurement_13    1401\n",
       "measurement_14    1496\n",
       "measurement_15    1623\n",
       "measurement_16    1699\n",
       "measurement_17    1837\n",
       "dtype: int64"
      ]
     },
     "execution_count": 10,
     "metadata": {},
     "output_type": "execute_result"
    }
   ],
   "source": [
    "# missing values\n",
    "x_train.isnull().sum()"
   ]
  },
  {
   "cell_type": "code",
   "execution_count": 11,
   "metadata": {},
   "outputs": [
    {
     "name": "stdout",
     "output_type": "stream",
     "text": [
      "id\n",
      "0        False\n",
      "1        False\n",
      "2        False\n",
      "3        False\n",
      "4        False\n",
      "         ...  \n",
      "26565    False\n",
      "26566    False\n",
      "26567    False\n",
      "26568    False\n",
      "26569    False\n",
      "Name: loading, Length: 26570, dtype: bool\n",
      "id\n",
      "0        False\n",
      "1        False\n",
      "2        False\n",
      "3        False\n",
      "4        False\n",
      "         ...  \n",
      "26565    False\n",
      "26566    False\n",
      "26567    False\n",
      "26568    False\n",
      "26569    False\n",
      "Name: measurement_3, Length: 26570, dtype: bool\n",
      "id\n",
      "0        False\n",
      "1        False\n",
      "2        False\n",
      "3        False\n",
      "4        False\n",
      "         ...  \n",
      "26565    False\n",
      "26566     True\n",
      "26567    False\n",
      "26568     True\n",
      "26569    False\n",
      "Name: measurement_4, Length: 26570, dtype: bool\n",
      "id\n",
      "0        False\n",
      "1        False\n",
      "2        False\n",
      "3        False\n",
      "4        False\n",
      "         ...  \n",
      "26565    False\n",
      "26566    False\n",
      "26567    False\n",
      "26568    False\n",
      "26569    False\n",
      "Name: measurement_5, Length: 26570, dtype: bool\n",
      "id\n",
      "0        False\n",
      "1        False\n",
      "2        False\n",
      "3        False\n",
      "4        False\n",
      "         ...  \n",
      "26565    False\n",
      "26566    False\n",
      "26567    False\n",
      "26568    False\n",
      "26569    False\n",
      "Name: measurement_6, Length: 26570, dtype: bool\n",
      "id\n",
      "0        False\n",
      "1        False\n",
      "2        False\n",
      "3        False\n",
      "4        False\n",
      "         ...  \n",
      "26565    False\n",
      "26566    False\n",
      "26567    False\n",
      "26568    False\n",
      "26569    False\n",
      "Name: measurement_7, Length: 26570, dtype: bool\n",
      "id\n",
      "0        False\n",
      "1        False\n",
      "2        False\n",
      "3        False\n",
      "4        False\n",
      "         ...  \n",
      "26565    False\n",
      "26566    False\n",
      "26567    False\n",
      "26568    False\n",
      "26569    False\n",
      "Name: measurement_8, Length: 26570, dtype: bool\n",
      "id\n",
      "0        False\n",
      "1        False\n",
      "2        False\n",
      "3        False\n",
      "4        False\n",
      "         ...  \n",
      "26565     True\n",
      "26566    False\n",
      "26567    False\n",
      "26568    False\n",
      "26569    False\n",
      "Name: measurement_9, Length: 26570, dtype: bool\n",
      "id\n",
      "0        False\n",
      "1        False\n",
      "2        False\n",
      "3        False\n",
      "4        False\n",
      "         ...  \n",
      "26565    False\n",
      "26566    False\n",
      "26567    False\n",
      "26568    False\n",
      "26569    False\n",
      "Name: measurement_10, Length: 26570, dtype: bool\n",
      "id\n",
      "0        False\n",
      "1        False\n",
      "2         True\n",
      "3        False\n",
      "4        False\n",
      "         ...  \n",
      "26565    False\n",
      "26566    False\n",
      "26567    False\n",
      "26568    False\n",
      "26569    False\n",
      "Name: measurement_11, Length: 26570, dtype: bool\n",
      "id\n",
      "0        False\n",
      "1        False\n",
      "2        False\n",
      "3        False\n",
      "4        False\n",
      "         ...  \n",
      "26565    False\n",
      "26566    False\n",
      "26567    False\n",
      "26568    False\n",
      "26569    False\n",
      "Name: measurement_12, Length: 26570, dtype: bool\n",
      "id\n",
      "0        False\n",
      "1        False\n",
      "2        False\n",
      "3        False\n",
      "4        False\n",
      "         ...  \n",
      "26565    False\n",
      "26566    False\n",
      "26567    False\n",
      "26568    False\n",
      "26569    False\n",
      "Name: measurement_13, Length: 26570, dtype: bool\n",
      "id\n",
      "0         True\n",
      "1        False\n",
      "2        False\n",
      "3        False\n",
      "4        False\n",
      "         ...  \n",
      "26565    False\n",
      "26566    False\n",
      "26567    False\n",
      "26568    False\n",
      "26569    False\n",
      "Name: measurement_14, Length: 26570, dtype: bool\n",
      "id\n",
      "0        False\n",
      "1        False\n",
      "2        False\n",
      "3        False\n",
      "4        False\n",
      "         ...  \n",
      "26565    False\n",
      "26566    False\n",
      "26567    False\n",
      "26568    False\n",
      "26569    False\n",
      "Name: measurement_15, Length: 26570, dtype: bool\n",
      "id\n",
      "0        False\n",
      "1        False\n",
      "2        False\n",
      "3        False\n",
      "4        False\n",
      "         ...  \n",
      "26565     True\n",
      "26566    False\n",
      "26567    False\n",
      "26568    False\n",
      "26569    False\n",
      "Name: measurement_16, Length: 26570, dtype: bool\n",
      "id\n",
      "0        False\n",
      "1        False\n",
      "2        False\n",
      "3        False\n",
      "4        False\n",
      "         ...  \n",
      "26565    False\n",
      "26566    False\n",
      "26567    False\n",
      "26568    False\n",
      "26569    False\n",
      "Name: measurement_17, Length: 26570, dtype: bool\n"
     ]
    }
   ],
   "source": [
    "for col in df_X.columns:\n",
    "    if df_X[col].isnull().any():\n",
    "        print(df[col].isnull())"
   ]
  },
  {
   "cell_type": "code",
   "execution_count": 12,
   "metadata": {},
   "outputs": [
    {
     "data": {
      "text/plain": [
       "['loading',\n",
       " 'measurement_3',\n",
       " 'measurement_4',\n",
       " 'measurement_5',\n",
       " 'measurement_6',\n",
       " 'measurement_7',\n",
       " 'measurement_8',\n",
       " 'measurement_9',\n",
       " 'measurement_10',\n",
       " 'measurement_11',\n",
       " 'measurement_12',\n",
       " 'measurement_13',\n",
       " 'measurement_14',\n",
       " 'measurement_15',\n",
       " 'measurement_16',\n",
       " 'measurement_17']"
      ]
     },
     "execution_count": 12,
     "metadata": {},
     "output_type": "execute_result"
    }
   ],
   "source": [
    "# missing columns are numeric type\n",
    "missing_cols = [col for col in df_X.columns if df_X[col].isnull().any()]\n",
    "missing_cols"
   ]
  },
  {
   "cell_type": "code",
   "execution_count": 13,
   "metadata": {},
   "outputs": [
    {
     "name": "stdout",
     "output_type": "stream",
     "text": [
      "Numerical Columns\n",
      " ['loading', 'attribute_2', 'attribute_3', 'measurement_0', 'measurement_1', 'measurement_2', 'measurement_3', 'measurement_4', 'measurement_5', 'measurement_6', 'measurement_7', 'measurement_8', 'measurement_9', 'measurement_10', 'measurement_11', 'measurement_12', 'measurement_13', 'measurement_14', 'measurement_15', 'measurement_16', 'measurement_17', 'miss_loading', 'miss_measurement_3', 'miss_measurement_4', 'miss_measurement_5', 'miss_measurement_6', 'miss_measurement_7', 'miss_measurement_8', 'miss_measurement_9', 'miss_measurement_10', 'miss_measurement_11', 'miss_measurement_12', 'miss_measurement_13', 'miss_measurement_14', 'miss_measurement_15', 'miss_measurement_16', 'miss_measurement_17']\n",
      "\n",
      "Categorical Columns\n",
      " ['product_code', 'attribute_0', 'attribute_1']\n"
     ]
    }
   ],
   "source": [
    "numerical_cols = [c for c in df_X.columns if df_X[c].dtypes in ['int', 'float']]\n",
    "numerical_cols += [f'miss_{col}' for col in missing_cols]\n",
    "print(\"Numerical Columns\\n\", numerical_cols)\n",
    "\n",
    "categorical_cols = [c for c in df_X.columns if df_X[c].dtypes in ['object']]\n",
    "print(\"\\nCategorical Columns\\n\", categorical_cols)"
   ]
  },
  {
   "cell_type": "code",
   "execution_count": 14,
   "metadata": {},
   "outputs": [],
   "source": [
    "# Preprocessing for numerical data\n",
    "# it was constant\n",
    "numerical_transformer = Pipeline(steps=[('imputer',SimpleImputer(strategy='median')),\n",
    "                                        ('std_scaler', StandardScaler())\n",
    "                                       ]) \n",
    "\n",
    "\n",
    "# # Preprocessing for categorical data\n",
    "categorical_transformer = Pipeline(steps=[\n",
    "    ('imputer', SimpleImputer(strategy='constant')),\n",
    "    ('onehot', OneHotEncoder(handle_unknown='ignore'))\n",
    "])\n",
    "\n",
    "\n",
    "# Bundle preprocessing for numerical and categorical data\n",
    "preprocessor = ColumnTransformer([\n",
    "        ('num', numerical_transformer, numerical_cols),\n",
    "        ('cat', categorical_transformer, categorical_cols)\n",
    "])"
   ]
  },
  {
   "cell_type": "code",
   "execution_count": 15,
   "metadata": {},
   "outputs": [],
   "source": [
    "def preprocess(df, preprocessor, missing_cols, is_train):\n",
    "    # fill value: if column is null\n",
    "    for col in missing_cols:\n",
    "        df[f'miss_{col}'] = df[col].isnull()\n",
    "    \n",
    "    if is_train:\n",
    "        df = preprocessor.fit_transform(df)\n",
    "    else:\n",
    "        df = preprocessor.transform(df)\n",
    "    \n",
    "    print(df.shape)\n",
    "    \n",
    "    return df"
   ]
  },
  {
   "cell_type": "code",
   "execution_count": 16,
   "metadata": {},
   "outputs": [],
   "source": [
    "# x_train = preprocess(x_train, preprocessor,missing_cols, is_train=True)\n",
    "# x_val = preprocess(x_val, preprocessor, missing_cols, is_train=False)"
   ]
  },
  {
   "cell_type": "markdown",
   "metadata": {},
   "source": [
    "# Model"
   ]
  },
  {
   "cell_type": "code",
   "execution_count": 17,
   "metadata": {},
   "outputs": [],
   "source": [
    "from catboost import CatBoostClassifier"
   ]
  },
  {
   "cell_type": "code",
   "execution_count": 18,
   "metadata": {},
   "outputs": [
    {
     "name": "stdout",
     "output_type": "stream",
     "text": [
      "(26570, 47)\n"
     ]
    }
   ],
   "source": [
    "x_train = preprocess(df_X, preprocessor, missing_cols, is_train=True)"
   ]
  },
  {
   "cell_type": "code",
   "execution_count": 19,
   "metadata": {},
   "outputs": [
    {
     "name": "stdout",
     "output_type": "stream",
     "text": [
      "Learning rate set to 0.5\n",
      "0:\tlearn: 0.5516983\ttotal: 74.4ms\tremaining: 669ms\n",
      "5:\tlearn: 0.5038932\ttotal: 106ms\tremaining: 70.5ms\n",
      "9:\tlearn: 0.4996733\ttotal: 131ms\tremaining: 0us\n"
     ]
    },
    {
     "data": {
      "text/plain": [
       "<catboost.core.CatBoostClassifier at 0x7ff1a034f430>"
      ]
     },
     "execution_count": 19,
     "metadata": {},
     "output_type": "execute_result"
    }
   ],
   "source": [
    "model = CatBoostClassifier(iterations=5,verbose=5)\n",
    "model.fit(x_train, df_y)"
   ]
  },
  {
   "cell_type": "code",
   "execution_count": 20,
   "metadata": {},
   "outputs": [
    {
     "data": {
      "text/plain": [
       "['CatBoost']"
      ]
     },
     "execution_count": 20,
     "metadata": {},
     "output_type": "execute_result"
    }
   ],
   "source": [
    "# save model\n",
    "PATH_MODEL = 'CatBoost'\n",
    "joblib.dump(model, PATH_MODEL)"
   ]
  },
  {
   "cell_type": "markdown",
   "metadata": {},
   "source": [
    "# Predict"
   ]
  },
  {
   "cell_type": "code",
   "execution_count": 21,
   "metadata": {},
   "outputs": [],
   "source": [
    "df_test = pd.read_csv(PATH_TEST, index_col='id')"
   ]
  },
  {
   "cell_type": "code",
   "execution_count": 22,
   "metadata": {},
   "outputs": [
    {
     "name": "stdout",
     "output_type": "stream",
     "text": [
      "(20775, 47)\n"
     ]
    }
   ],
   "source": [
    "x_test = preprocess(df_test, preprocessor, missing_cols, is_train=False)"
   ]
  },
  {
   "cell_type": "code",
   "execution_count": 23,
   "metadata": {},
   "outputs": [],
   "source": [
    "pred = model.predict_proba(x_test)"
   ]
  },
  {
   "cell_type": "code",
   "execution_count": 24,
   "metadata": {},
   "outputs": [
    {
     "data": {
      "text/plain": [
       "array([[0.7965815 , 0.2034185 ],\n",
       "       [0.83729651, 0.16270349],\n",
       "       [0.82757961, 0.17242039],\n",
       "       ...,\n",
       "       [0.83178766, 0.16821234],\n",
       "       [0.79876977, 0.20123023],\n",
       "       [0.89125051, 0.10874949]])"
      ]
     },
     "execution_count": 24,
     "metadata": {},
     "output_type": "execute_result"
    }
   ],
   "source": [
    "pred"
   ]
  },
  {
   "cell_type": "code",
   "execution_count": 25,
   "metadata": {},
   "outputs": [],
   "source": [
    "submission = pd.DataFrame({'id': df_test.index,\n",
    "                           'failure': pred[:,1]})\n",
    "submission.to_csv('submission.csv', index=False)"
   ]
  }
 ],
 "metadata": {
  "kernelspec": {
   "display_name": "Python 3.9.13 ('base')",
   "language": "python",
   "name": "python3"
  },
  "language_info": {
   "codemirror_mode": {
    "name": "ipython",
    "version": 3
   },
   "file_extension": ".py",
   "mimetype": "text/x-python",
   "name": "python",
   "nbconvert_exporter": "python",
   "pygments_lexer": "ipython3",
   "version": "3.9.13"
  },
  "orig_nbformat": 4,
  "vscode": {
   "interpreter": {
    "hash": "c34019f22b2cb8c0f12492c2d56cc88834c9a1831a9952841115fc570b129000"
   }
  }
 },
 "nbformat": 4,
 "nbformat_minor": 2
}
