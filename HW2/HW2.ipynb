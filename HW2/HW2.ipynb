{
 "cells": [
  {
   "cell_type": "markdown",
   "metadata": {},
   "source": [
    "## HW2: Linear Discriminant Analysis\n",
    "In hw2, you need to implement [Fisher’s linear discriminant](https://towardsdatascience.com/fishers-linear-discriminant-intuitively-explained-52a1ba79e1bb) by using only numpy, then train your implemented model by the provided dataset and test the performance with testing data\n",
    "\n",
    "Please note that only **NUMPY** can be used to implement your model, you will get **zero point** by simply calling `sklearn.discriminant_analysis.LinearDiscriminantAnalysis` "
   ]
  },
  {
   "cell_type": "markdown",
   "metadata": {},
   "source": [
    "## Load data"
   ]
  },
  {
   "cell_type": "code",
   "execution_count": 1,
   "metadata": {},
   "outputs": [],
   "source": [
    "import pandas as pd\n",
    "from numpy.linalg import inv\n",
    "from numpy import abs\n",
    "import numpy as np\n",
    "from sklearn.metrics import accuracy_score\n",
    "import matplotlib.pyplot as plt"
   ]
  },
  {
   "cell_type": "code",
   "execution_count": 2,
   "metadata": {},
   "outputs": [],
   "source": [
    "x_train, x_test, y_train, y_test = np.load('classification_data.npy', allow_pickle=True)"
   ]
  },
  {
   "cell_type": "code",
   "execution_count": 3,
   "metadata": {},
   "outputs": [
    {
     "name": "stdout",
     "output_type": "stream",
     "text": [
      "(3750, 2)\n",
      "(3750,)\n",
      "(1250, 2)\n",
      "(1250,)\n"
     ]
    }
   ],
   "source": [
    "print(x_train.shape)\n",
    "print(y_train.shape)\n",
    "print(x_test.shape)\n",
    "print(y_test.shape)"
   ]
  },
  {
   "cell_type": "code",
   "execution_count": 4,
   "metadata": {},
   "outputs": [
    {
     "name": "stdout",
     "output_type": "stream",
     "text": [
      "(1869, 2)\n",
      "(1881, 2)\n"
     ]
    }
   ],
   "source": [
    "x_train_C0 = x_train[np.where(y_train == 0)]\n",
    "x_train_C1 = x_train[np.where(y_train == 1)]\n",
    "print(x_train_C0.shape)\n",
    "print(x_train_C1.shape)"
   ]
  },
  {
   "cell_type": "markdown",
   "metadata": {},
   "source": [
    "## 1. Compute the mean vectors mi, (i=1,2) of each 2 classes"
   ]
  },
  {
   "cell_type": "code",
   "execution_count": 5,
   "metadata": {},
   "outputs": [],
   "source": [
    "m0 = np.mean(x_train_C0, axis=0)\n",
    "m1 = np.mean(x_train_C1, axis=0)"
   ]
  },
  {
   "cell_type": "code",
   "execution_count": 6,
   "metadata": {},
   "outputs": [
    {
     "name": "stdout",
     "output_type": "stream",
     "text": [
      "mean vector of class 1: [ 0.99253136 -0.99115481] mean vector of class 2: [-0.9888012   1.00522778]\n"
     ]
    }
   ],
   "source": [
    "print(f\"mean vector of class 1: {m0}\", f\"mean vector of class 2: {m1}\")"
   ]
  },
  {
   "cell_type": "markdown",
   "metadata": {},
   "source": [
    "## 2. Compute the Within-class scatter matrix SW"
   ]
  },
  {
   "cell_type": "code",
   "execution_count": 7,
   "metadata": {},
   "outputs": [],
   "source": [
    "sw = np.zeros((2, 2))\n",
    "for i in range(x_train_C0.shape[0]):\n",
    "    v = x_train_C0[i] - m0\n",
    "    sw += np.outer(v, v)\n",
    "for i in range(x_train_C1.shape[0]):\n",
    "    v = x_train_C1[i] - m1\n",
    "    sw += np.outer(v, v)"
   ]
  },
  {
   "cell_type": "code",
   "execution_count": 8,
   "metadata": {},
   "outputs": [
    {
     "name": "stdout",
     "output_type": "stream",
     "text": [
      "Within-class scatter matrix SW: [[ 4337.38546493 -1795.55656547]\n",
      " [-1795.55656547  2834.75834886]]\n"
     ]
    }
   ],
   "source": [
    "print(f\"Within-class scatter matrix SW: {sw}\")"
   ]
  },
  {
   "cell_type": "markdown",
   "metadata": {},
   "source": [
    "## 3.  Compute the Between-class scatter matrix SB"
   ]
  },
  {
   "cell_type": "code",
   "execution_count": 9,
   "metadata": {},
   "outputs": [],
   "source": [
    "M0 = m0.reshape(m0.shape[0], 1)\n",
    "M1 = m1.reshape(m1.shape[0], 1)\n",
    "v = m1 - m0\n",
    "sb = np.outer(v, v)"
   ]
  },
  {
   "cell_type": "code",
   "execution_count": 10,
   "metadata": {},
   "outputs": [
    {
     "name": "stdout",
     "output_type": "stream",
     "text": [
      "Between-class scatter matrix SB: [[ 3.92567873 -3.95549783]\n",
      " [-3.95549783  3.98554344]]\n"
     ]
    }
   ],
   "source": [
    "print(f\"Between-class scatter matrix SB: {sb}\")"
   ]
  },
  {
   "cell_type": "markdown",
   "metadata": {},
   "source": [
    "## 4. Compute the Fisher’s linear discriminant"
   ]
  },
  {
   "cell_type": "code",
   "execution_count": 11,
   "metadata": {},
   "outputs": [],
   "source": [
    "w = inv(sw) @ (M1 - M0)\n"
   ]
  },
  {
   "cell_type": "code",
   "execution_count": 12,
   "metadata": {},
   "outputs": [
    {
     "name": "stdout",
     "output_type": "stream",
     "text": [
      " Fisher’s linear discriminant: [[-0.000224  ]\n",
      " [ 0.00056237]]\n"
     ]
    }
   ],
   "source": [
    "print(f\" Fisher’s linear discriminant: {w}\")"
   ]
  },
  {
   "cell_type": "code",
   "execution_count": 13,
   "metadata": {},
   "outputs": [
    {
     "data": {
      "text/plain": [
       "array([[-0.000224  ,  0.00056237]])"
      ]
     },
     "execution_count": 13,
     "metadata": {},
     "output_type": "execute_result"
    }
   ],
   "source": [
    "w.T"
   ]
  },
  {
   "cell_type": "markdown",
   "metadata": {},
   "source": [
    "## 5. Project the test data by linear discriminant and get the class prediction by `K` nearest-neighbor rule. Please report the accuracy score with `K` values from 1 to 5\n",
    "you can use `accuracy_score` function from `sklearn.metric.accuracy_score`"
   ]
  },
  {
   "cell_type": "code",
   "execution_count": 14,
   "metadata": {},
   "outputs": [
    {
     "name": "stdout",
     "output_type": "stream",
     "text": [
      "(1, 1869)\n",
      "(1, 1881)\n",
      "(1, 1250)\n",
      "[[-0.00162301 -0.00053729 -0.00059806 ... -0.00039839 -0.0006215\n",
      "   0.00074764]]\n",
      "[[-5.35274794e-05  9.09614913e-04 -1.76829837e-04 ...  2.32993081e-03\n",
      "   1.12052286e-03  1.50407020e-03]]\n"
     ]
    }
   ],
   "source": [
    "proj_C0 = w.T @ x_train_C0.T\n",
    "proj_C1 = w.T @ x_train_C1.T\n",
    "proj = w.T @ x_test.T\n",
    "print(proj_C0.shape)\n",
    "print(proj_C1.shape)\n",
    "print(proj.shape)\n",
    "print(proj_C0)\n",
    "print(proj)"
   ]
  },
  {
   "cell_type": "code",
   "execution_count": 15,
   "metadata": {},
   "outputs": [
    {
     "name": "stdout",
     "output_type": "stream",
     "text": [
      "k = 1\n",
      "Accuracy of test-set 0.8488\n",
      "k = 2\n",
      "Accuracy of test-set 0.8312\n",
      "k = 3\n",
      "Accuracy of test-set 0.8792\n",
      "k = 4\n",
      "Accuracy of test-set 0.8744\n",
      "k = 5\n",
      "Accuracy of test-set 0.8912\n"
     ]
    }
   ],
   "source": [
    "# KNN\n",
    "for k in range(1, 6):\n",
    "    y_pred = []\n",
    "    for i in range(proj.shape[1]):\n",
    "        dist = []\n",
    "        for j in range(proj_C0.shape[1]):\n",
    "            dist.append(((proj[0][i] - proj_C0[0][j]) ** 2, 0))\n",
    "\n",
    "        for j in range(proj_C1.shape[1]):\n",
    "            dist.append(((proj[0][i] - proj_C1[0][j]) ** 2, 1))\n",
    "\n",
    "        dist.sort()\n",
    "\n",
    "        cls_0 = cls_1 = 0\n",
    "        for j in range(k):  # k nearest\n",
    "            if dist[j][1] == 0:\n",
    "                cls_0 += 1\n",
    "            else:\n",
    "                cls_1 += 1\n",
    "\n",
    "        if cls_0 > cls_1:\n",
    "            y_pred.append(0)\n",
    "        else:\n",
    "            y_pred.append(1)\n",
    "\n",
    "    acc = accuracy_score(y_test, y_pred)\n",
    "    print(f'k = {k}')\n",
    "    print(f\"Accuracy of test-set {acc}\")"
   ]
  },
  {
   "cell_type": "markdown",
   "metadata": {},
   "source": [
    "## 6. Plot the 1) best projection line on the training data and show the slope and intercept on the title (you can choose any value of intercept for better visualization) 2) colorize the data with each class 3) project all data points on your projection line. Your result should look like [this image](https://i.imgur.com/tubMQpw.jpg)"
   ]
  },
  {
   "cell_type": "code",
   "execution_count": 16,
   "metadata": {},
   "outputs": [
    {
     "name": "stdout",
     "output_type": "stream",
     "text": [
      "[-2.51059716]\n"
     ]
    }
   ],
   "source": [
    "x0_C0, x1_C0 = x_train_C0.T[0], x_train_C0.T[1] # x0\n",
    "x0_C1, x1_C1 = x_train_C1.T[0], x_train_C1.T[1] # x1\n",
    "X = np.linspace(-2, 2, 10)\n",
    "m = w[1] / w[0]\n",
    "Y = m * X\n",
    "print(m)"
   ]
  },
  {
   "cell_type": "code",
   "execution_count": 17,
   "metadata": {},
   "outputs": [
    {
     "name": "stdout",
     "output_type": "stream",
     "text": [
      "[-195.97648126]\n",
      "[[-0.000224  ]\n",
      " [ 0.00056237]]\n",
      "[ 0.04389838 -0.11021116]\n"
     ]
    }
   ],
   "source": [
    "proj_coord_C0 = x_train_C0 @ w.reshape(w.shape[0], 1) / np.sum(w ** 2) * w.reshape(1, w.shape[0])\n",
    "proj_coord_C1 = x_train_C1 @ w.reshape(w.shape[0], 1) / np.sum(w ** 2) * w.reshape(1, w.shape[0])\n",
    "\n",
    "print((x_train_C0 @ w.reshape(w.shape[0], 1) / np.sum(w ** 2))[10])\n",
    "print(w)\n",
    "print(proj_coord_C0[10])\n",
    "\n",
    "x0_proj_C0, x1_proj_C0 = proj_coord_C0.T[0], proj_coord_C0.T[1]\n",
    "x0_proj_C1, x1_proj_C1 = proj_coord_C1.T[0], proj_coord_C1.T[1]"
   ]
  },
  {
   "cell_type": "code",
   "execution_count": 27,
   "metadata": {},
   "outputs": [
    {
     "data": {
      "image/png": "[encoded data removed]",
      "text/plain": [
       "<Figure size 432x288 with 1 Axes>"
      ]
     },
     "metadata": {
      "needs_background": "light"
     },
     "output_type": "display_data"
    }
   ],
   "source": [
    "plt.plot(x0_C0, x1_C0, 'r.') # class 0 point\n",
    "plt.plot(x0_C1, x1_C1, 'b.') # class 1 point\n",
    "plt.plot(X, Y, 'c') # projection line\n",
    "plt.plot(x0_proj_C0, x1_proj_C0, 'r.')   # class 0 projection point\n",
    "plt.plot(x0_proj_C1, x1_proj_C1, 'b.')   # class 1 projection point\n",
    "\n",
    "for i in range(x0_C0.shape[0]): # class 0 projection connection\n",
    "    plt.plot([x0_C0[i], x0_proj_C0[i]], [x1_C0[i], x1_proj_C0[i]], 'r:', linewidth=0.1)\n",
    "\n",
    "for i in range(x0_C1.shape[0]): # class 1 projection connection\n",
    "    plt.plot([x0_C1[i], x0_proj_C1[i]], [x1_C1[i], x1_proj_C1[i]], 'b:', linewidth=0.1)\n",
    "\n",
    "plt.xlim([-8, 8])\n",
    "plt.ylim([-8, 8])\n",
    "plt.axis('square')\n",
    "plt.title(f'Projection Line: w=%.5f , b=0' % m)\n",
    "plt.show()"
   ]
  }
 ],
 "metadata": {
  "kernelspec": {
   "display_name": "Python 3.9.12 ('base')",
   "language": "python",
   "name": "python3"
  },
  "language_info": {
   "codemirror_mode": {
    "name": "ipython",
    "version": 3
   },
   "file_extension": ".py",
   "mimetype": "text/x-python",
   "name": "python",
   "nbconvert_exporter": "python",
   "pygments_lexer": "ipython3",
   "version": "3.9.12"
  },
  "vscode": {
   "interpreter": {
    "hash": "c34019f22b2cb8c0f12492c2d56cc88834c9a1831a9952841115fc570b129000"
   }
  }
 },
 "nbformat": 4,
 "nbformat_minor": 4
}
