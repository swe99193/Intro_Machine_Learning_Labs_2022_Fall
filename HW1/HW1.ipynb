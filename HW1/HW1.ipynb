{
 "cells": [
  {
   "cell_type": "markdown",
   "metadata": {},
   "source": [
    "## HW1: Logistic regression and Linear Regression using Gradient Descent\n",
    "In hw1, you need to implement linear regression by using only numpy, then train your implemented model by the provided dataset and test the performance with testing data\n",
    "\n",
    "Please note that only **NUMPY** can be used to implement your model, you will get no points by simply calling sklearn.linear_model.LinearRegression"
   ]
  },
  {
   "cell_type": "code",
   "execution_count": 1,
   "metadata": {},
   "outputs": [],
   "source": [
    "import numpy as np \n",
    "import pandas as pd\n",
    "import matplotlib.pyplot as plt\n",
    "from sklearn.metrics import accuracy_score"
   ]
  },
  {
   "cell_type": "markdown",
   "metadata": {},
   "source": [
    "# Part 1. Linear regression model"
   ]
  },
  {
   "cell_type": "markdown",
   "metadata": {},
   "source": [
    "## Load regression data"
   ]
  },
  {
   "cell_type": "code",
   "execution_count": 2,
   "metadata": {},
   "outputs": [],
   "source": [
    "x_train, x_test, y_train, y_test = np.load('regression_data.npy', allow_pickle=True)"
   ]
  },
  {
   "cell_type": "code",
   "execution_count": 3,
   "metadata": {},
   "outputs": [
    {
     "data": {
      "text/plain": [
       "[<matplotlib.lines.Line2D at 0x7fd26a1e9f40>]"
      ]
     },
     "execution_count": 3,
     "metadata": {},
     "output_type": "execute_result"
    },
    {
     "data": {
      "image/png": "[encoded data removed]",
      "text/plain": [
       "<Figure size 432x288 with 1 Axes>"
      ]
     },
     "metadata": {
      "needs_background": "light"
     },
     "output_type": "display_data"
    }
   ],
   "source": [
    "plt.plot(x_train, y_train, '.')"
   ]
  },
  {
   "cell_type": "code",
   "execution_count": 4,
   "metadata": {},
   "outputs": [
    {
     "name": "stdout",
     "output_type": "stream",
     "text": [
      "(750,)\n",
      "(250,)\n",
      "(750,)\n",
      "(250,)\n"
     ]
    }
   ],
   "source": [
    "# x_train, x_test, y_train, y_test\n",
    "x_train = x_train.flatten()\n",
    "x_test = x_test.flatten()\n",
    "print(x_train.shape)\n",
    "print(x_test.shape)\n",
    "print(y_train.shape)\n",
    "print(y_test.shape)"
   ]
  },
  {
   "cell_type": "markdown",
   "metadata": {},
   "source": [
    "## Train your model \n",
    "### Pseudo code:\n",
    "1. Random initialize the weights, intercepts of the linear model\n",
    "\n",
    "**for i in range(iteration)**\n",
    "\n",
    "    2. Feed foward the training data into the model, get the output prediction\n",
    "    3. Calculating training loss by Mean Square Error of predcition and ground truth data\n",
    "    4. Calculating the gradients\n",
    "    5. Updating the weights and intercepts by the gradients * learning rate \n",
    "    \n",
    "**End of training**"
   ]
  },
  {
   "cell_type": "code",
   "execution_count": 5,
   "metadata": {},
   "outputs": [],
   "source": [
    "def MSE(Y_pred, Y):\n",
    "    return (1 / Y.shape[0]) * np.sum((Y_pred - Y) ** 2)"
   ]
  },
  {
   "cell_type": "code",
   "execution_count": 6,
   "metadata": {},
   "outputs": [],
   "source": [
    "class Linear_Regression:\n",
    "    def __init__(self, X, Y, X_test, Y_test):\n",
    "        \"\"\"\n",
    "            (discarded) normalized training data ~ N(0,var)\n",
    "            initialize weights\n",
    "        \"\"\"\n",
    "        self.__X = X\n",
    "        self.__Y = Y\n",
    "        self.__X_test = X_test\n",
    "        self.__Y_test = Y_test\n",
    "        self.__w = [0, np.var(Y)]\n",
    "\n",
    "    def train(self, lr=1e-4, iter_max=100):\n",
    "        self.__lr = lr\n",
    "\n",
    "        train_loss = []\n",
    "        test_loss = []\n",
    "        N = len(self.__X)\n",
    "        iter_i = 0\n",
    "\n",
    "        while iter_i <= iter_max:\n",
    "\n",
    "            Y_pred = self.__w[0] + (self.__w[1] * self.__X)\n",
    "\n",
    "            self.__w[0] = self.__w[0] - (lr * (1 / N) *\n",
    "                                         np.sum(Y_pred - self.__Y))\n",
    "            self.__w[1] = self.__w[1] - (lr * (1 / N) *\n",
    "                                         np.sum((Y_pred - self.__Y) * self.__X))\n",
    "\n",
    "            # print stat\n",
    "            train_loss.append(MSE(self.predict(self.__X), self.__Y))\n",
    "            test_loss.append(MSE(self.predict(self.__X_test), self.__Y_test))\n",
    "            print(\"Iteration: {} Loss: {:.6f}\".format(\n",
    "                iter_i, train_loss[iter_i]))\n",
    "            iter_i += 1\n",
    "\n",
    "        self.__train_loss = train_loss\n",
    "        self.__test_loss = test_loss\n",
    "\n",
    "    def print_weights(self):\n",
    "        print(\"[w0,w1] = {}\".format(self.__w))\n",
    "\n",
    "    def predict(self, X_test):\n",
    "        return self.__w[0] + (self.__w[1] * X_test)\n",
    "\n",
    "    def plot_l_curve(self):\n",
    "        \"\"\" plot learning curve: train loss & test loss\"\"\"\n",
    "        plt.plot(np.arange(len(self.__train_loss)),\n",
    "                 self.__train_loss, label='train loss')\n",
    "        plt.plot(np.arange(len(self.__test_loss)),\n",
    "                 self.__test_loss, label='val loss')\n",
    "        print(self.__train_loss[-1])\n",
    "        print(self.__test_loss[-1])\n",
    "        plt.legend(loc='upper center')\n",
    "        plt.ylabel('Loss')\n",
    "        plt.xlabel('Iterations')\n",
    "        plt.title('learning curve')\n",
    "        plt.show()\n"
   ]
  },
  {
   "cell_type": "code",
   "execution_count": 7,
   "metadata": {},
   "outputs": [
    {
     "name": "stdout",
     "output_type": "stream",
     "text": [
      "Iteration: 0 Loss: 1847396.205059\n",
      "Iteration: 1 Loss: 528084.544041\n",
      "Iteration: 2 Loss: 151185.025663\n",
      "Iteration: 3 Loss: 43378.107646\n",
      "Iteration: 4 Loss: 12507.795092\n",
      "Iteration: 5 Loss: 3659.751538\n",
      "Iteration: 6 Loss: 1121.637679\n",
      "Iteration: 7 Loss: 393.044689\n",
      "Iteration: 8 Loss: 183.764905\n",
      "Iteration: 9 Loss: 123.619614\n",
      "Iteration: 10 Loss: 106.326371\n",
      "Iteration: 11 Loss: 101.352161\n",
      "Iteration: 12 Loss: 99.920892\n",
      "Iteration: 13 Loss: 99.508941\n",
      "Iteration: 14 Loss: 99.390341\n",
      "Iteration: 15 Loss: 99.356189\n",
      "Iteration: 16 Loss: 99.346353\n",
      "Iteration: 17 Loss: 99.343520\n",
      "Iteration: 18 Loss: 99.342704\n",
      "Iteration: 19 Loss: 99.342468\n",
      "Iteration: 20 Loss: 99.342401\n",
      "Iteration: 21 Loss: 99.342381\n",
      "Iteration: 22 Loss: 99.342375\n",
      "Iteration: 23 Loss: 99.342374\n",
      "Iteration: 24 Loss: 99.342373\n",
      "Iteration: 25 Loss: 99.342373\n",
      "Iteration: 26 Loss: 99.342373\n",
      "Iteration: 27 Loss: 99.342373\n",
      "Iteration: 28 Loss: 99.342373\n",
      "Iteration: 29 Loss: 99.342373\n",
      "Iteration: 30 Loss: 99.342373\n",
      "Iteration: 31 Loss: 99.342373\n",
      "Iteration: 32 Loss: 99.342373\n",
      "Iteration: 33 Loss: 99.342373\n",
      "Iteration: 34 Loss: 99.342373\n",
      "Iteration: 35 Loss: 99.342373\n",
      "Iteration: 36 Loss: 99.342373\n",
      "Iteration: 37 Loss: 99.342373\n",
      "Iteration: 38 Loss: 99.342373\n",
      "Iteration: 39 Loss: 99.342373\n",
      "Iteration: 40 Loss: 99.342373\n"
     ]
    }
   ],
   "source": [
    "# Main program\n",
    "model = Linear_Regression(x_train, y_train, x_test, y_test)\n",
    "model.train(lr=0.5, iter_max=40)"
   ]
  },
  {
   "cell_type": "code",
   "execution_count": 8,
   "metadata": {},
   "outputs": [
    {
     "name": "stdout",
     "output_type": "stream",
     "text": [
      "[w0,w1] = [-0.3337588897141167, 52.7435404827579]\n"
     ]
    }
   ],
   "source": [
    "model.print_weights()"
   ]
  },
  {
   "cell_type": "code",
   "execution_count": 9,
   "metadata": {},
   "outputs": [
    {
     "name": "stdout",
     "output_type": "stream",
     "text": [
      "99.34237308797246\n",
      "110.43819262680604\n"
     ]
    },
    {
     "data": {
      "image/png": "[encoded data removed]",
      "text/plain": [
       "<Figure size 432x288 with 1 Axes>"
      ]
     },
     "metadata": {
      "needs_background": "light"
     },
     "output_type": "display_data"
    }
   ],
   "source": [
    "model.plot_l_curve()\n"
   ]
  },
  {
   "cell_type": "markdown",
   "metadata": {},
   "source": [
    "## Test the performance on the testing data\n",
    "Inference the test data (x_test) by your model and calculate the loss of (y_test, y_pred)"
   ]
  },
  {
   "cell_type": "code",
   "execution_count": 10,
   "metadata": {},
   "outputs": [
    {
     "name": "stdout",
     "output_type": "stream",
     "text": [
      "MSE: 110.43819262680604\n"
     ]
    }
   ],
   "source": [
    "y_pred = model.predict(x_test)\n",
    "print(f\"MSE: {MSE(y_pred, y_test)}\")"
   ]
  },
  {
   "cell_type": "code",
   "execution_count": 11,
   "metadata": {},
   "outputs": [],
   "source": [
    "# from sklearn.linear_model import LinearRegression\n",
    "# reg = LinearRegression().fit(x_train.reshape(-1, 1), y_train.reshape(-1, 1))\n",
    "# y_pred = reg.predict(x_test.reshape(-1, 1))\n",
    "# print(f\"MSE: {MSE(y_pred.flatten(), y_test)}\")\n"
   ]
  },
  {
   "cell_type": "markdown",
   "metadata": {},
   "source": [
    "# Part 2. Logistic regreesion model"
   ]
  },
  {
   "cell_type": "markdown",
   "metadata": {},
   "source": [
    "## Load classification data"
   ]
  },
  {
   "cell_type": "code",
   "execution_count": 13,
   "metadata": {},
   "outputs": [],
   "source": [
    "x_train, x_test, y_train, y_test = np.load('classification_data.npy', allow_pickle=True)"
   ]
  },
  {
   "cell_type": "code",
   "execution_count": 13,
   "metadata": {},
   "outputs": [
    {
     "data": {
      "text/plain": [
       "<matplotlib.collections.PathCollection at 0x7fd25a1ccfd0>"
      ]
     },
     "execution_count": 13,
     "metadata": {},
     "output_type": "execute_result"
    },
    {
     "data": {
      "image/png": "[encoded data removed]",
      "text/plain": [
       "<Figure size 432x288 with 1 Axes>"
      ]
     },
     "metadata": {
      "needs_background": "light"
     },
     "output_type": "display_data"
    }
   ],
   "source": [
    "plt.scatter(x_train, np.ones_like(x_train), c=y_train)"
   ]
  },
  {
   "cell_type": "code",
   "execution_count": 14,
   "metadata": {},
   "outputs": [
    {
     "data": {
      "text/plain": [
       "<matplotlib.collections.PathCollection at 0x7fd26a2bb100>"
      ]
     },
     "execution_count": 14,
     "metadata": {},
     "output_type": "execute_result"
    },
    {
     "data": {
      "image/png": "[encoded data removed]",
      "text/plain": [
       "<Figure size 432x288 with 1 Axes>"
      ]
     },
     "metadata": {
      "needs_background": "light"
     },
     "output_type": "display_data"
    }
   ],
   "source": [
    "plt.scatter(x_train, y_train)\n"
   ]
  },
  {
   "cell_type": "code",
   "execution_count": 14,
   "metadata": {},
   "outputs": [
    {
     "name": "stdout",
     "output_type": "stream",
     "text": [
      "(750,)\n",
      "(250,)\n",
      "(750,)\n",
      "(250,)\n"
     ]
    }
   ],
   "source": [
    "# x_train, x_test, y_train, y_test\n",
    "x_train = x_train.flatten()\n",
    "x_test = x_test.flatten()\n",
    "print(x_train.shape)\n",
    "print(x_test.shape)\n",
    "print(y_train.shape)\n",
    "print(y_test.shape)"
   ]
  },
  {
   "cell_type": "raw",
   "metadata": {},
   "source": [
    "## Train your model \n",
    "### Pseudo code:\n",
    "1. Random initialize the weights, intercepts of the linear model\n",
    "\n",
    "**for i in range(iteration)**\n",
    "\n",
    "    2. Feed foward the training data into the model, get the output prediction\n",
    "    3. Calculating training loss by Cross entrooy Error of predcition and ground truth data\n",
    "    4. Calculating the gradients\n",
    "    5. Updating the weights and intercepts by the gradients * learning rate \n",
    "    \n",
    "**End of training**"
   ]
  },
  {
   "cell_type": "code",
   "execution_count": 15,
   "metadata": {},
   "outputs": [],
   "source": [
    "def Cross_Entropy(Y_pred, Y):\n",
    "    return - (1 / Y.shape[0]) * np.sum(Y * np.log(Y_pred + 1e-100) + (1 - Y) * np.log(1 - Y_pred + 1e-100))"
   ]
  },
  {
   "cell_type": "code",
   "execution_count": 16,
   "metadata": {},
   "outputs": [],
   "source": [
    "class Logistic_Regression:\n",
    "    def __init__(self, X, Y, X_test, Y_test):\n",
    "        \"\"\"\n",
    "            (discarded) normalized training data ~ N(0,var)\n",
    "            initialize weights\n",
    "        \"\"\"\n",
    "        self.__X = X\n",
    "        self.__Y = Y\n",
    "        self.__X_test = X_test\n",
    "        self.__Y_test = Y_test\n",
    "        self.__w = [-10, 10]\n",
    "\n",
    "    def train(self, lr=1e-4, iter_max=100):\n",
    "        self.__lr = lr\n",
    "        def sigmoid(x): return 1/(1 + np.exp(-x))\n",
    "\n",
    "        train_loss = []\n",
    "        test_loss = []\n",
    "        N = len(self.__X)\n",
    "        iter_i = 0\n",
    "\n",
    "        while iter_i <= iter_max:\n",
    "\n",
    "            Y_pred = sigmoid(self.__w[0] + (self.__w[1] * self.__X))\n",
    "            # Y_pred = self.predict(self.__X)\n",
    "\n",
    "            self.__w[0] = self.__w[0] - (lr * np.sum(Y_pred - self.__Y) / N)\n",
    "            self.__w[1] = self.__w[1] - \\\n",
    "                (lr * np.sum((Y_pred - self.__Y) * self.__X) / N)\n",
    "\n",
    "            # print stat\n",
    "            # train_loss.append(Cross_Entropy(self.predict(self.__X), self.__Y))\n",
    "            # test_loss.append(Cross_Entropy(\n",
    "            #     self.predict(self.__X_test), self.__Y_test))\n",
    "            train_loss.append(Cross_Entropy(sigmoid(self.__w[0] + (self.__w[1] * self.__X)), self.__Y))\n",
    "            test_loss.append(Cross_Entropy(\n",
    "                sigmoid(self.__w[0] + (self.__w[1] * self.__X_test)), self.__Y_test))\n",
    "            # print(\"Iteration: {} Loss: {:.6f}\".format(iter_i, train_loss[iter_i]))\n",
    "            iter_i += 1\n",
    "\n",
    "        self.__train_loss = train_loss\n",
    "        self.__test_loss = test_loss\n",
    "\n",
    "    def print_weights(self):\n",
    "        print(\"[w0,w1] = {}\".format(self.__w))\n",
    "\n",
    "    def predict(self, X):\n",
    "        def sigmoid(x): return 1/(1 + np.exp(-x))\n",
    "        p1 = sigmoid(self.__w[0] + (self.__w[1] * X))\n",
    "        p0 = 1 - p1\n",
    "        return np.array([1 if x else 0 for x in (p1 > p0)])\n",
    "\n",
    "    def plot_l_curve(self):\n",
    "        \"\"\" plot learning curve: train loss & test loss\"\"\"\n",
    "        plt.plot(np.arange(len(self.__train_loss)),\n",
    "                 self.__train_loss, label='train loss')\n",
    "        plt.plot(np.arange(len(self.__test_loss)),\n",
    "                 self.__test_loss, label='test loss')\n",
    "        print(self.__train_loss[-1])\n",
    "        print(self.__test_loss[-1])\n",
    "        plt.legend(loc='upper center')\n",
    "        plt.ylabel('Loss')\n",
    "        plt.xlabel('Iterations')\n",
    "        plt.title('learning curve')\n",
    "        plt.show()"
   ]
  },
  {
   "cell_type": "code",
   "execution_count": 17,
   "metadata": {},
   "outputs": [],
   "source": [
    "# Main program\n",
    "model = Logistic_Regression(x_train, y_train, x_test, y_test)\n",
    "model.train(lr=10, iter_max=100)"
   ]
  },
  {
   "cell_type": "code",
   "execution_count": 18,
   "metadata": {},
   "outputs": [
    {
     "name": "stdout",
     "output_type": "stream",
     "text": [
      "[w0,w1] = [1.731050851171446, 4.908753424351506]\n"
     ]
    }
   ],
   "source": [
    "model.print_weights()"
   ]
  },
  {
   "cell_type": "code",
   "execution_count": 19,
   "metadata": {},
   "outputs": [
    {
     "name": "stdout",
     "output_type": "stream",
     "text": [
      "0.17043806442524276\n",
      "0.1894341064709086\n"
     ]
    },
    {
     "data": {
      "image/png": "[encoded data removed]",
      "text/plain": [
       "<Figure size 432x288 with 1 Axes>"
      ]
     },
     "metadata": {
      "needs_background": "light"
     },
     "output_type": "display_data"
    }
   ],
   "source": [
    "model.plot_l_curve()\n"
   ]
  },
  {
   "cell_type": "markdown",
   "metadata": {},
   "source": [
    "## Test the performance on the testing data\n",
    "Inference the test data (x_test) by your model and calculate the loss of (y_test, y_pred)"
   ]
  },
  {
   "cell_type": "code",
   "execution_count": 21,
   "metadata": {},
   "outputs": [
    {
     "name": "stdout",
     "output_type": "stream",
     "text": [
      "Cross Entropy: 9.210340371976184\n",
      "accuracy: 0.96\n"
     ]
    }
   ],
   "source": [
    "y_pred = model.predict(x_test)\n",
    "print(f\"Cross Entropy: {Cross_Entropy(y_pred, y_test)}\")\n",
    "print(f\"accuracy: {accuracy_score(y_pred, y_test)}\")"
   ]
  },
  {
   "cell_type": "code",
   "execution_count": 22,
   "metadata": {},
   "outputs": [],
   "source": [
    "# X = np.array([0, 0, 1, 1, 0])\n",
    "# A = np.array([0, 0 ,0 ,1, 0])\n",
    "# # print(A * np.log(X+ 1e-100))\n",
    "# # print(np.sum(A * np.log(X+ 1e-100)))\n",
    "\n",
    "# print((1-A) * np.log(1 - X + 1e-100))\n",
    "# print(np.sum((1-A) * np.log(1 - X + 1e-1)))\n",
    "# print(np.log(1 - 0 + 1e-200))"
   ]
  },
  {
   "cell_type": "code",
   "execution_count": 23,
   "metadata": {},
   "outputs": [],
   "source": [
    "# x = np.array([1, 3 ,4 ,5, 6])\n",
    "# print(1/(1 + np.exp(-x)))\n",
    "# print(1/(1 + np.exp(-x[0])))"
   ]
  },
  {
   "cell_type": "code",
   "execution_count": 5,
   "metadata": {},
   "outputs": [
    {
     "name": "stdout",
     "output_type": "stream",
     "text": [
      "[1.         0.33181223 1.         0.19781611 0.40131234]\n",
      "[0.         0.66818777 0.         0.80218389 0.59868766]\n"
     ]
    },
    {
     "data": {
      "text/plain": [
       "array([0, 1, 0, 1, 1])"
      ]
     },
     "execution_count": 5,
     "metadata": {},
     "output_type": "execute_result"
    }
   ],
   "source": [
    "x = np.array([1004, 3 ,999 ,-4, 6])\n",
    "sigmoid = lambda x: 1/(1 + np.exp(-x))\n",
    "p0 = sigmoid(-1 + (0.1 * x))\n",
    "p1 = 1 - p0\n",
    "print(p0)\n",
    "print(p1)\n",
    "np.array([0 if x else 1 for x in (p0 > p1)])"
   ]
  },
  {
   "cell_type": "code",
   "execution_count": 6,
   "metadata": {},
   "outputs": [
    {
     "data": {
      "text/plain": [
       "0.9525741268224334"
      ]
     },
     "execution_count": 6,
     "metadata": {},
     "output_type": "execute_result"
    }
   ],
   "source": [
    "x = -1 + (0.1 * 1004)\n",
    "1/ (1+np.exp(-x))"
   ]
  },
  {
   "cell_type": "code",
   "execution_count": 25,
   "metadata": {},
   "outputs": [],
   "source": [
    "# # model.predict(x_train) == y_train\n",
    "# model.predict(x_test) == y_test\n",
    "# # model.predict(x_train)\n",
    "# # y_train"
   ]
  },
  {
   "cell_type": "code",
   "execution_count": 26,
   "metadata": {},
   "outputs": [],
   "source": [
    "# from sklearn.linear_model import LogisticRegression\n",
    "# clf = LogisticRegression().fit(x_train.reshape(-1, 1), y_train)\n",
    "# y_pred = clf.predict(x_test.reshape(-1, 1))\n",
    "# accuracy_score(y_pred, y_test)\n"
   ]
  }
 ],
 "metadata": {
  "kernelspec": {
   "display_name": "Python 3.9.12 ('base')",
   "language": "python",
   "name": "python3"
  },
  "language_info": {
   "codemirror_mode": {
    "name": "ipython",
    "version": 3
   },
   "file_extension": ".py",
   "mimetype": "text/x-python",
   "name": "python",
   "nbconvert_exporter": "python",
   "pygments_lexer": "ipython3",
   "version": "3.9.12"
  },
  "vscode": {
   "interpreter": {
    "hash": "c34019f22b2cb8c0f12492c2d56cc88834c9a1831a9952841115fc570b129000"
   }
  }
 },
 "nbformat": 4,
 "nbformat_minor": 4
}
