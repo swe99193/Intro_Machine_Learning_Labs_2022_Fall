{
 "cells": [
  {
   "cell_type": "code",
   "execution_count": 1,
   "metadata": {},
   "outputs": [],
   "source": [
    "import numpy as np\n",
    "import pandas as pd\n",
    "from sklearn.svm import SVC, SVR\n",
    "from sklearn.metrics import accuracy_score\n",
    "import seaborn as sns\n",
    "import matplotlib.pylab as plt"
   ]
  },
  {
   "cell_type": "markdown",
   "metadata": {},
   "source": [
    "## Load data"
   ]
  },
  {
   "cell_type": "code",
   "execution_count": 2,
   "metadata": {},
   "outputs": [],
   "source": [
    "x_train = np.load(\"x_train.npy\")\n",
    "y_train = np.load(\"y_train.npy\")\n",
    "x_test = np.load(\"x_test.npy\")\n",
    "# y_test = np.load(\"y_test.npy\")"
   ]
  },
  {
   "cell_type": "code",
   "execution_count": 3,
   "metadata": {},
   "outputs": [
    {
     "name": "stdout",
     "output_type": "stream",
     "text": [
      "(7000, 300)\n"
     ]
    }
   ],
   "source": [
    "# 7000 data with 300 features\n",
    "print(x_train.shape)"
   ]
  },
  {
   "cell_type": "code",
   "execution_count": 4,
   "metadata": {},
   "outputs": [
    {
     "name": "stdout",
     "output_type": "stream",
     "text": [
      "[0 1]\n"
     ]
    }
   ],
   "source": [
    "# It's a binary classification problem\n",
    "print(np.unique(y_train))"
   ]
  },
  {
   "cell_type": "markdown",
   "metadata": {},
   "source": [
    "## Question 1\n",
    "K-fold data partition: Implement the K-fold cross-validation function. Your function should take K as an argument and return a list of lists (len(list) should equal to K), which contains K elements. Each element is a list contains two parts, the first part contains the index of all training folds, e.g. Fold 2 to Fold 5 in split 1. The second part contains the index of validation fold, e.g. Fold 1 in  split 1"
   ]
  },
  {
   "cell_type": "code",
   "execution_count": 5,
   "metadata": {},
   "outputs": [],
   "source": [
    "seed = 100"
   ]
  },
  {
   "cell_type": "code",
   "execution_count": 6,
   "metadata": {},
   "outputs": [],
   "source": [
    "def cross_validation(x_train, y_train, k=5):\n",
    "    X = np.arange(len(x_train))\n",
    "    np.random.seed(seed)\n",
    "    np.random.shuffle(X)\n",
    "    kfold_data = []\n",
    "\n",
    "    tmp = len(X) % k\n",
    "    s1 = 0\n",
    "    idx_list = []\n",
    "\n",
    "    for i in range(k):\n",
    "        l = len(X) // k\n",
    "        if i < tmp:\n",
    "            l += 1\n",
    "        s2 = s1 + l\n",
    "        idx_list.append((s1, s2))\n",
    "        s1 += l\n",
    "\n",
    "    for s1, s2 in idx_list:\n",
    "        indices = list(range(0, s1)) + list(range(s2, len(X)))\n",
    "        kfold_data.append([X[indices], X[range(s1, s2)]])\n",
    "\n",
    "    return kfold_data"
   ]
  },
  {
   "cell_type": "code",
   "execution_count": 7,
   "metadata": {},
   "outputs": [],
   "source": [
    "kfold_data = cross_validation(x_train, y_train, k=10)\n",
    "assert len(kfold_data) == 10  # should contain 10 fold of data\n",
    "# each element should contain train fold and validation fold\n",
    "assert len(kfold_data[0]) == 2\n",
    "# The number of data in each validation fold should equal to training data divieded by K\n",
    "assert kfold_data[0][1].shape[0] == 700"
   ]
  },
  {
   "cell_type": "code",
   "execution_count": 8,
   "metadata": {},
   "outputs": [
    {
     "name": "stdout",
     "output_type": "stream",
     "text": [
      "6300, 700\n",
      "6300, 700\n",
      "6300, 700\n",
      "6300, 700\n",
      "6300, 700\n",
      "6300, 700\n",
      "6300, 700\n",
      "6300, 700\n",
      "6300, 700\n",
      "6300, 700\n"
     ]
    }
   ],
   "source": [
    "for train_index, val_index in kfold_data:\n",
    "    print(f'{len(train_index)}, {len(val_index)}')"
   ]
  },
  {
   "cell_type": "code",
   "execution_count": 9,
   "metadata": {},
   "outputs": [
    {
     "name": "stdout",
     "output_type": "stream",
     "text": [
      "[array([6926, 5217, 1246, ..., 5955, 6936, 5640]), array([  49, 5774, 5013, 4839,  261,  344, 2589, 1021, 4751, 4039, 3931,\n",
      "        535, 5581, 2242, 4696, 4122, 6799,  625, 5551, 3144, 4081, 4505,\n",
      "        983, 5637, 2695, 2050, 1113, 3613, 3651, 6442, 3297, 2369, 6348,\n",
      "       1405, 6747, 3351, 1711, 3313, 6811, 4477, 4375, 4541, 3851, 1200,\n",
      "        153, 3259, 1378, 2230, 3542,  567, 4498, 1800, 1911, 4049, 1185,\n",
      "        965, 3638, 1596, 5525, 3216, 3350, 6500, 1072, 3274, 3863, 6334,\n",
      "       5242, 1994, 6598, 1607,  887, 2558, 3805,  472, 6585, 6827, 5281,\n",
      "       4664, 6536, 2743, 6632, 5435, 3672, 6713, 5619, 4681, 5874, 6719,\n",
      "       1791, 1300, 4087, 4306, 1474,  646, 4080, 3633, 3840, 3803, 6732,\n",
      "       4567,  621, 3376,  349, 5162, 1055,  595,  785, 6202, 4984,   61,\n",
      "       6715, 6513, 1760, 5750,  133, 5734, 1231, 1171, 3744, 5661, 3066,\n",
      "       6781, 3759, 1162,  781, 5327, 1330, 1835, 2845, 4084, 1981, 3649,\n",
      "       4583,  108, 4487,  116, 6688, 6269, 6249, 5495,  538,  585, 5966,\n",
      "       2213, 4252, 2471, 2778, 2792, 5703, 4718, 3448, 6120, 5269, 2061,\n",
      "       5322, 1418, 5803, 1694, 6037,   77, 5563,  480, 3382, 1335, 5792,\n",
      "       2911, 5798, 1143, 2782, 1025, 4976, 3782,  892, 3445,  634, 1629,\n",
      "       4727,  115, 5957, 3163, 2501, 3688, 5142, 5960, 6414, 6086, 4657,\n",
      "       1270, 5036, 1136, 2739, 3769,  672, 2539, 6983,  182, 6377, 1129,\n",
      "       6593, 4212, 5111, 5820,  119, 2568, 2719, 5482,  435, 1381, 4866,\n",
      "       6197, 4120, 3784, 6352,  343, 2412, 1801, 1479, 1211, 6909, 5372,\n",
      "       2077, 5627, 3757, 5200, 3101,  552, 6184, 3629, 2590, 3444, 3392,\n",
      "       6795, 1432, 3113, 1272, 6705, 4331, 3279, 2991, 5582, 2266, 2090,\n",
      "       4141, 3609, 1013, 2935, 6472, 1794, 2668, 6060, 2217, 6675, 1637,\n",
      "        962, 4989, 3443, 3675, 2140, 4521, 3330, 5066,  838, 3209, 4886,\n",
      "        939,  219, 6117, 3526, 4219, 6935, 6316, 5061, 6190, 3132, 3396,\n",
      "       5126, 2386, 4998, 1389, 2457, 6278, 4307, 3475,  290, 1745, 6427,\n",
      "        732, 4593, 1238, 3929, 5946, 1838, 3248, 5497, 4903, 5362, 3557,\n",
      "       2932,  859, 6491, 1059, 2298,  312, 3848,  940, 1151, 4291,   64,\n",
      "       4658, 2464,  599,  368, 3540, 3302, 5558, 4673, 2093, 1505, 3604,\n",
      "       1893, 5136, 1263, 3886, 2241,  712, 3004,  207, 2538, 1243, 5541,\n",
      "       4101,  449, 3956, 5005, 1249, 4123, 1299, 5091, 2599, 5864, 3796,\n",
      "       6387, 2765, 6228, 2872, 1969, 1784, 2773, 4276, 5188, 6680, 3087,\n",
      "       5647, 5549, 1212, 5987, 2222, 4698, 2670, 6780, 3763,  200, 3694,\n",
      "       5238, 4829, 1625, 4901, 6735, 4024, 5451,  412, 2420, 2608, 1268,\n",
      "        246, 5100, 4264, 1195, 1756, 4256, 6338, 6253,  723, 6596, 3644,\n",
      "       6584, 5918, 4543, 1339, 1562, 5667, 1611, 2606, 2517,  819,   93,\n",
      "        269, 3146, 1965, 3219, 6647, 1118, 6601, 4146, 4189, 5437,  251,\n",
      "       3120, 4063, 5500,  474, 2925, 2796, 5406, 5718, 5104, 3281, 2735,\n",
      "       2529, 4509, 5833, 2238,   76, 2453, 6776, 5806, 2126, 6324, 4099,\n",
      "       6477, 1693, 6727, 6372, 6789, 6459, 6535, 6604, 6896, 1964, 3636,\n",
      "       1264, 5898, 6105,  386, 6046, 3595, 2515, 4366, 4448,  729, 5800,\n",
      "       1325, 6056, 5674, 2907, 4565, 5861, 4480,  297, 6701, 4391, 2520,\n",
      "       3712, 3591, 3671,  522, 2237, 4432, 4059, 5204,  482, 6872, 4842,\n",
      "       3583, 2062, 5613, 3749, 3820, 2682,  270, 3766, 2248, 5909, 5952,\n",
      "       6661, 6641, 3389, 2376, 1537, 1142, 2498,  830, 2758, 1321, 3407,\n",
      "       2672, 3009, 4273, 2966, 2065, 4202, 2426, 6730, 6366,  852, 2665,\n",
      "       4924, 4096, 5434, 4954, 3791, 3060, 1749, 4952, 2346,  214, 4804,\n",
      "       6361, 4497, 2918, 2489, 6637, 3196, 5086, 3192, 5121, 5919, 6884,\n",
      "       1587, 6118, 5276, 1187, 6300,  669, 5308,  815, 6302, 4784, 4539,\n",
      "       6150, 2716, 6969, 1428, 1751, 4651,  933, 3471, 2934, 4159, 3231,\n",
      "       1709, 6470,  569, 1467, 5150, 5545, 3420, 1324, 1762, 1676, 5852,\n",
      "       6025, 5019, 1520, 3717, 1528, 3221, 2337, 6804,  709, 2182, 5654,\n",
      "       6475,  871,  610, 1789, 6809, 6191, 3659, 3267, 1731, 5979, 1135,\n",
      "       2285, 1257, 5474, 4555, 1538, 1286,  561, 6376, 5586, 4286, 4640,\n",
      "       6797, 4346, 6763,  956, 1841, 1764, 2504, 6333, 6129,   22, 5275,\n",
      "       2357, 5591, 3141, 6924, 1895, 2532,  339, 1080, 5863,  300, 2794,\n",
      "       3867, 3643, 2507, 4089, 4411,  512, 1322, 3170,  486, 1626, 4941,\n",
      "       5636, 3187, 4526, 2702, 1457,  589, 1804,  231,  504, 1594, 2363,\n",
      "       6223,   42, 1928, 5195, 4596, 5287, 5649, 5180, 4481, 2500, 4418,\n",
      "       2833, 6298, 5374, 5728, 1366, 2485, 6275, 1287, 1436, 3478, 2391,\n",
      "       4741, 4795, 5147, 3363,  883, 5309, 4461, 5312,  173, 2629, 6478,\n",
      "       6121, 3906,  833, 1913, 6083, 4568, 1557, 3379, 2633, 4104, 1782,\n",
      "       1513, 1010, 4534, 5047, 2162, 1614, 6271, 1604, 3895, 5232, 4628,\n",
      "       3232, 1836, 3090, 2252, 4243,  326, 4129])]\n"
     ]
    }
   ],
   "source": [
    "print(kfold_data[0])"
   ]
  },
  {
   "cell_type": "markdown",
   "metadata": {},
   "source": [
    "## example"
   ]
  },
  {
   "cell_type": "code",
   "execution_count": 10,
   "metadata": {},
   "outputs": [
    {
     "name": "stdout",
     "output_type": "stream",
     "text": [
      "Split: 1, Training index: [ 1  2  3  4  5  6  7  8 10 11 12 13 15 16 18 19], Validation index: [ 0  9 14 17]\n",
      "Split: 2, Training index: [ 0  1  2  4  5  7  8  9 10 11 12 14 15 17 18 19], Validation index: [ 3  6 13 16]\n",
      "Split: 3, Training index: [ 0  1  3  4  5  6  7  9 11 12 13 14 15 16 17 19], Validation index: [ 2  8 10 18]\n",
      "Split: 4, Training index: [ 0  1  2  3  6  7  8  9 10 13 14 15 16 17 18 19], Validation index: [ 4  5 11 12]\n",
      "Split: 5, Training index: [ 0  2  3  4  5  6  8  9 10 11 12 13 14 16 17 18], Validation index: [ 1  7 15 19]\n"
     ]
    }
   ],
   "source": [
    "from sklearn.model_selection import KFold\n",
    "\n",
    "X = np.arange(20)\n",
    "kf = KFold(n_splits=5, shuffle=True)\n",
    "kfold_data = []\n",
    "for i, (train_index, val_index) in enumerate(kf.split(X)):\n",
    "    print(\"Split: %s, Training index: %s, Validation index: %s\" %\n",
    "          (i+1, train_index, val_index))\n",
    "    kfold_data.append([train_index, val_index])"
   ]
  },
  {
   "cell_type": "code",
   "execution_count": 11,
   "metadata": {},
   "outputs": [],
   "source": [
    "assert len(kfold_data) == 5  # should contain 5 fold of data\n",
    "# each element should contains index of training fold and validation fold\n",
    "assert len(kfold_data[0]) == 2\n",
    "# The number of data in each validation fold should equal to training data divieded by K\n",
    "assert kfold_data[0][1].shape[0] == 4"
   ]
  },
  {
   "cell_type": "markdown",
   "metadata": {},
   "source": [
    "## Question 2\n",
    "Using sklearn.svm.SVC to train a classifier on the provided train set and conduct the grid search of “C” and “gamma” to find the best parameters by cross-validation."
   ]
  },
  {
   "cell_type": "code",
   "execution_count": 12,
   "metadata": {},
   "outputs": [],
   "source": [
    "clf = SVC(C=1.0, kernel='rbf', gamma=0.01)"
   ]
  },
  {
   "cell_type": "code",
   "execution_count": 13,
   "metadata": {},
   "outputs": [
    {
     "name": "stdout",
     "output_type": "stream",
     "text": [
      "C: 1  gamma: 1e-05 Val acc: 0.9541428571428572\n",
      "C: 1  gamma: 0.0001 Val acc: 0.9931428571428572\n",
      "C: 1  gamma: 0.001 Val acc: 0.5651428571428572\n",
      "C: 10  gamma: 1e-05 Val acc: 0.9841428571428571\n",
      "C: 10  gamma: 0.0001 Val acc: 0.9932857142857143\n",
      "C: 10  gamma: 0.001 Val acc: 0.5637142857142857\n",
      "C: 100  gamma: 1e-05 Val acc: 0.9911428571428571\n",
      "C: 100  gamma: 0.0001 Val acc: 0.9932857142857143\n",
      "C: 100  gamma: 0.001 Val acc: 0.5637142857142857\n",
      "C: 1000  gamma: 1e-05 Val acc: 0.9914285714285714\n",
      "C: 1000  gamma: 0.0001 Val acc: 0.9932857142857143\n",
      "C: 1000  gamma: 0.001 Val acc: 0.5637142857142857\n"
     ]
    }
   ],
   "source": [
    "# your code\n",
    "k = 5\n",
    "kfold_data = cross_validation(x_train, y_train, k=k)\n",
    "best_score, best_parameters = 0, dict(C=None, gamma=None)\n",
    "c_param, gamma_param = [], []\n",
    "score = []\n",
    "for c_exp in range(0, 4):\n",
    "    c_param.append(10 ** c_exp)\n",
    "for gamma_exp in range(-5, -2):\n",
    "    gamma_param.append(10 ** gamma_exp)\n",
    "\n",
    "for C in c_param:\n",
    "    tmp = []\n",
    "\n",
    "    for gamma in gamma_param:\n",
    "        avg_val_score = 0\n",
    "\n",
    "        for train_index, val_index in kfold_data:\n",
    "            clf = SVC(C=C, kernel='rbf', gamma=gamma)\n",
    "            clf.fit(x_train[train_index], y_train[train_index])\n",
    "            y_pred = clf.predict(x_train[val_index])\n",
    "\n",
    "            avg_val_score += accuracy_score(y_train[val_index], y_pred)\n",
    "\n",
    "        avg_val_score /= k\n",
    "        tmp.append(avg_val_score)\n",
    "\n",
    "        print(f'C: {C}  gamma: {gamma} Val acc: {avg_val_score}')\n",
    "        if avg_val_score > best_score:\n",
    "            best_score = avg_val_score\n",
    "            best_parameters = dict(C=C, gamma=gamma)\n",
    "\n",
    "    score.append(tmp)"
   ]
  },
  {
   "cell_type": "code",
   "execution_count": 14,
   "metadata": {},
   "outputs": [
    {
     "name": "stdout",
     "output_type": "stream",
     "text": [
      "{'C': 10, 'gamma': 0.0001}\n"
     ]
    }
   ],
   "source": [
    "print(best_parameters)"
   ]
  },
  {
   "cell_type": "code",
   "execution_count": 15,
   "metadata": {},
   "outputs": [
    {
     "name": "stdout",
     "output_type": "stream",
     "text": [
      "[1, 10, 100, 1000]\n",
      "[1e-05, 0.0001, 0.001]\n",
      "(4, 3)\n"
     ]
    }
   ],
   "source": [
    "print(c_param)\n",
    "print(gamma_param)\n",
    "print(np.array(score).shape)"
   ]
  },
  {
   "cell_type": "markdown",
   "metadata": {},
   "source": [
    "## Question 3\n",
    "Plot the grid search results of your SVM. The x, y represents the hyperparameters of “gamma” and “C”, respectively. And the color represents the average score of validation folds\n",
    "You reults should be look like this reference image below ![image](https://miro.medium.com/max/1296/1*wGWTup9r4cVytB5MOnsjdQ.png) "
   ]
  },
  {
   "cell_type": "code",
   "execution_count": 16,
   "metadata": {},
   "outputs": [
    {
     "data": {
      "image/png": "[encoded data removed]",
      "text/plain": [
       "<Figure size 1500x1000 with 2 Axes>"
      ]
     },
     "metadata": {},
     "output_type": "display_data"
    }
   ],
   "source": [
    "plt.figure(figsize=(15, 10))\n",
    "ax = sns.heatmap(score,\n",
    "                 annot=True,\n",
    "                 xticklabels=gamma_param,\n",
    "                 yticklabels=c_param,\n",
    "                 linewidths=1.0,\n",
    "                 cmap='coolwarm_r',\n",
    "                 cbar_kws={'label': 'val score'})\n",
    "plt.xlabel(\"Gamma Parameter\")\n",
    "plt.ylabel(\"C Parameter\")\n",
    "plt.title(\"Hyperparameter Gridsearch\")\n",
    "plt.show()"
   ]
  },
  {
   "cell_type": "markdown",
   "metadata": {},
   "source": [
    "## Question 4\n",
    "Train your SVM model by the best parameters you found from question 2 on the whole training set and evaluate the performance on the test set."
   ]
  },
  {
   "cell_type": "code",
   "execution_count": 17,
   "metadata": {},
   "outputs": [
    {
     "ename": "NameError",
     "evalue": "name 'y_test' is not defined",
     "output_type": "error",
     "traceback": [
      "\u001b[0;31m---------------------------------------------------------------------------\u001b[0m",
      "\u001b[0;31mNameError\u001b[0m                                 Traceback (most recent call last)",
      "\u001b[0;32m/var/folders/mh/41j2lncs7zl23__r0_gc065w0000gn/T/ipykernel_14623/4184362164.py\u001b[0m in \u001b[0;36m<module>\u001b[0;34m\u001b[0m\n\u001b[1;32m      3\u001b[0m \u001b[0mbest_model\u001b[0m\u001b[0;34m.\u001b[0m\u001b[0mfit\u001b[0m\u001b[0;34m(\u001b[0m\u001b[0mx_train\u001b[0m\u001b[0;34m,\u001b[0m \u001b[0my_train\u001b[0m\u001b[0;34m)\u001b[0m\u001b[0;34m\u001b[0m\u001b[0;34m\u001b[0m\u001b[0m\n\u001b[1;32m      4\u001b[0m \u001b[0my_pred\u001b[0m \u001b[0;34m=\u001b[0m \u001b[0mbest_model\u001b[0m\u001b[0;34m.\u001b[0m\u001b[0mpredict\u001b[0m\u001b[0;34m(\u001b[0m\u001b[0mx_test\u001b[0m\u001b[0;34m)\u001b[0m\u001b[0;34m\u001b[0m\u001b[0;34m\u001b[0m\u001b[0m\n\u001b[0;32m----> 5\u001b[0;31m \u001b[0mprint\u001b[0m\u001b[0;34m(\u001b[0m\u001b[0;34m\"Accuracy score: \"\u001b[0m\u001b[0;34m,\u001b[0m \u001b[0maccuracy_score\u001b[0m\u001b[0;34m(\u001b[0m\u001b[0my_pred\u001b[0m\u001b[0;34m,\u001b[0m \u001b[0my_test\u001b[0m\u001b[0;34m)\u001b[0m\u001b[0;34m)\u001b[0m\u001b[0;34m\u001b[0m\u001b[0;34m\u001b[0m\u001b[0m\n\u001b[0m",
      "\u001b[0;31mNameError\u001b[0m: name 'y_test' is not defined"
     ]
    }
   ],
   "source": [
    "C, gamma = 10, 0.0001\n",
    "best_model = SVC(C=C, kernel='rbf', gamma=gamma)\n",
    "best_model.fit(x_train, y_train)\n",
    "y_pred = best_model.predict(x_test)\n",
    "print(\"Accuracy score: \", accuracy_score(y_pred, y_test))"
   ]
  }
 ],
 "metadata": {
  "kernelspec": {
   "display_name": "Python 3 (ipykernel)",
   "language": "python",
   "name": "python3"
  },
  "language_info": {
   "codemirror_mode": {
    "name": "ipython",
    "version": 3
   },
   "file_extension": ".py",
   "mimetype": "text/x-python",
   "name": "python",
   "nbconvert_exporter": "python",
   "pygments_lexer": "ipython3",
   "version": "3.9.13"
  },
  "vscode": {
   "interpreter": {
    "hash": "c34019f22b2cb8c0f12492c2d56cc88834c9a1831a9952841115fc570b129000"
   }
  }
 },
 "nbformat": 4,
 "nbformat_minor": 4
}
